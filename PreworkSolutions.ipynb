{
 "cells": [
  {
   "cell_type": "markdown",
   "id": "5d3a19ca",
   "metadata": {},
   "source": [
    "## Question 1\n",
    "Write a function to print \"hello_USERNAME!\" USERNAME is the input of the function. The first line of the code has been defined as below.\n",
    "\n",
    "    def hello_name(user_name):\n",
    "        ....."
   ]
  },
  {
   "cell_type": "code",
   "execution_count": 4,
   "id": "39fc24d0",
   "metadata": {},
   "outputs": [
    {
     "name": "stdout",
     "output_type": "stream",
     "text": [
      "hello_IBSY\n"
     ]
    }
   ],
   "source": [
    "def hello_name(user_name):\n",
    "    # turn username into all caps\n",
    "    all_caps_user_name = user_name.upper()\n",
    "    print(f\"hello_{all_caps_user_name}\")\n",
    "hello_name('ibsy')"
   ]
  },
  {
   "cell_type": "markdown",
   "id": "de0780bb",
   "metadata": {},
   "source": [
    "## Question 2\n",
    "Write a python function, first_odds that prints the odd numbers from 1-100 and returns nothing\n",
    "\n",
    "    def first_odds():\n",
    "        ....."
   ]
  },
  {
   "cell_type": "code",
   "execution_count": 5,
   "id": "a4f8b60c",
   "metadata": {},
   "outputs": [
    {
     "name": "stdout",
     "output_type": "stream",
     "text": [
      "1\n",
      "3\n",
      "5\n",
      "7\n",
      "9\n",
      "11\n",
      "13\n",
      "15\n",
      "17\n",
      "19\n",
      "21\n",
      "23\n",
      "25\n",
      "27\n",
      "29\n",
      "31\n",
      "33\n",
      "35\n",
      "37\n",
      "39\n",
      "41\n",
      "43\n",
      "45\n",
      "47\n",
      "49\n",
      "51\n",
      "53\n",
      "55\n",
      "57\n",
      "59\n",
      "61\n",
      "63\n",
      "65\n",
      "67\n",
      "69\n",
      "71\n",
      "73\n",
      "75\n",
      "77\n",
      "79\n",
      "81\n",
      "83\n",
      "85\n",
      "87\n",
      "89\n",
      "91\n",
      "93\n",
      "95\n",
      "97\n",
      "99\n"
     ]
    }
   ],
   "source": [
    "def first_odds():\n",
    "    i = 1\n",
    "    while i <= 100:\n",
    "        if i % 2 == 1:\n",
    "            print(i)\n",
    "        i = i + 1\n",
    "        \n",
    "first_odds()"
   ]
  },
  {
   "cell_type": "code",
   "execution_count": 10,
   "id": "a2cccfc2",
   "metadata": {},
   "outputs": [
    {
     "name": "stdout",
     "output_type": "stream",
     "text": [
      "Help on class range in module builtins:\n",
      "\n",
      "class range(object)\n",
      " |  range(stop) -> range object\n",
      " |  range(start, stop[, step]) -> range object\n",
      " |  \n",
      " |  Return an object that produces a sequence of integers from start (inclusive)\n",
      " |  to stop (exclusive) by step.  range(i, j) produces i, i+1, i+2, ..., j-1.\n",
      " |  start defaults to 0, and stop is omitted!  range(4) produces 0, 1, 2, 3.\n",
      " |  These are exactly the valid indices for a list of 4 elements.\n",
      " |  When step is given, it specifies the increment (or decrement).\n",
      " |  \n",
      " |  Methods defined here:\n",
      " |  \n",
      " |  __bool__(self, /)\n",
      " |      True if self else False\n",
      " |  \n",
      " |  __contains__(self, key, /)\n",
      " |      Return key in self.\n",
      " |  \n",
      " |  __eq__(self, value, /)\n",
      " |      Return self==value.\n",
      " |  \n",
      " |  __ge__(self, value, /)\n",
      " |      Return self>=value.\n",
      " |  \n",
      " |  __getattribute__(self, name, /)\n",
      " |      Return getattr(self, name).\n",
      " |  \n",
      " |  __getitem__(self, key, /)\n",
      " |      Return self[key].\n",
      " |  \n",
      " |  __gt__(self, value, /)\n",
      " |      Return self>value.\n",
      " |  \n",
      " |  __hash__(self, /)\n",
      " |      Return hash(self).\n",
      " |  \n",
      " |  __iter__(self, /)\n",
      " |      Implement iter(self).\n",
      " |  \n",
      " |  __le__(self, value, /)\n",
      " |      Return self<=value.\n",
      " |  \n",
      " |  __len__(self, /)\n",
      " |      Return len(self).\n",
      " |  \n",
      " |  __lt__(self, value, /)\n",
      " |      Return self<value.\n",
      " |  \n",
      " |  __ne__(self, value, /)\n",
      " |      Return self!=value.\n",
      " |  \n",
      " |  __reduce__(...)\n",
      " |      Helper for pickle.\n",
      " |  \n",
      " |  __repr__(self, /)\n",
      " |      Return repr(self).\n",
      " |  \n",
      " |  __reversed__(...)\n",
      " |      Return a reverse iterator.\n",
      " |  \n",
      " |  count(...)\n",
      " |      rangeobject.count(value) -> integer -- return number of occurrences of value\n",
      " |  \n",
      " |  index(...)\n",
      " |      rangeobject.index(value) -> integer -- return index of value.\n",
      " |      Raise ValueError if the value is not present.\n",
      " |  \n",
      " |  ----------------------------------------------------------------------\n",
      " |  Static methods defined here:\n",
      " |  \n",
      " |  __new__(*args, **kwargs) from builtins.type\n",
      " |      Create and return a new object.  See help(type) for accurate signature.\n",
      " |  \n",
      " |  ----------------------------------------------------------------------\n",
      " |  Data descriptors defined here:\n",
      " |  \n",
      " |  start\n",
      " |  \n",
      " |  step\n",
      " |  \n",
      " |  stop\n",
      "\n"
     ]
    }
   ],
   "source": [
    "help(range)"
   ]
  },
  {
   "cell_type": "code",
   "execution_count": 9,
   "id": "1ebdf756",
   "metadata": {},
   "outputs": [
    {
     "name": "stdout",
     "output_type": "stream",
     "text": [
      "1\n",
      "3\n",
      "5\n",
      "7\n",
      "9\n",
      "11\n",
      "13\n",
      "15\n",
      "17\n",
      "19\n",
      "21\n",
      "23\n",
      "25\n",
      "27\n",
      "29\n",
      "31\n",
      "33\n",
      "35\n",
      "37\n",
      "39\n",
      "41\n",
      "43\n",
      "45\n",
      "47\n",
      "49\n",
      "51\n",
      "53\n",
      "55\n",
      "57\n",
      "59\n",
      "61\n",
      "63\n",
      "65\n",
      "67\n",
      "69\n",
      "71\n",
      "73\n",
      "75\n",
      "77\n",
      "79\n",
      "81\n",
      "83\n",
      "85\n",
      "87\n",
      "89\n",
      "91\n",
      "93\n",
      "95\n",
      "97\n",
      "99\n"
     ]
    }
   ],
   "source": [
    "def first_odds():\n",
    "    for x in range(1, 100, 2):\n",
    "        print(x)\n",
    "\n",
    "first_odds()"
   ]
  },
  {
   "cell_type": "markdown",
   "id": "451533f9",
   "metadata": {},
   "source": [
    "## Question 3\n",
    "Please write a Python function, max_num_in_list to return the max number of a given list. The first line of the code has been defined as below.\n",
    "\n",
    "    def max_num_in_list(a_list):\n",
    "        ....."
   ]
  },
  {
   "cell_type": "code",
   "execution_count": 11,
   "id": "46cee988",
   "metadata": {},
   "outputs": [
    {
     "data": {
      "text/plain": [
       "9"
      ]
     },
     "execution_count": 11,
     "metadata": {},
     "output_type": "execute_result"
    }
   ],
   "source": [
    "def max_num_in_list(a_list):\n",
    "    return max(a_list)\n",
    "\n",
    "max_num_in_list([2, 6, 9, 4, 5, 1])"
   ]
  },
  {
   "cell_type": "code",
   "execution_count": 12,
   "id": "66c836e9",
   "metadata": {},
   "outputs": [
    {
     "data": {
      "text/plain": [
       "9"
      ]
     },
     "execution_count": 12,
     "metadata": {},
     "output_type": "execute_result"
    }
   ],
   "source": [
    "def max_num_in_list(a_list):\n",
    "    current_max = a_list[0]\n",
    "    for num in a_list:\n",
    "        if num > current_max:\n",
    "            current_max = num\n",
    "    return current_max\n",
    "\n",
    "max_num_in_list([2, 6, 9, 4, 5, 1])"
   ]
  },
  {
   "cell_type": "markdown",
   "id": "95dc9aa4",
   "metadata": {},
   "source": [
    "## Question 4\n",
    "Write a function to return if the given year is a leap year. A leap year is divisible by 4, but not divisible by 100, unless it is also divisible by 400. The return should be boolean Type (true/false).\n",
    "\n",
    "    def is_leap_year(a_year):\n",
    "        ....."
   ]
  },
  {
   "cell_type": "code",
   "execution_count": 16,
   "id": "de4cc1bd",
   "metadata": {},
   "outputs": [
    {
     "data": {
      "text/plain": [
       "True"
      ]
     },
     "execution_count": 16,
     "metadata": {},
     "output_type": "execute_result"
    }
   ],
   "source": [
    "def is_leap_year(a_year):\n",
    "    if a_year % 4 == 0 and a_year % 100 != 0:\n",
    "        return True\n",
    "    elif a_year % 400 == 0:\n",
    "        return True\n",
    "    else:\n",
    "        return False\n",
    "    \n",
    "is_leap_year(2104)"
   ]
  },
  {
   "cell_type": "markdown",
   "id": "75ea6cc0",
   "metadata": {},
   "source": [
    "## Question 5\n",
    "Write a function to check to see if all numbers in list are consecutive numbers. For example, [2,3,4,5,6,7] are consecutive numbers, but [1,2,4,5] are not consecutive numbers. The return should be boolean Type.\n",
    "\n",
    "    def is_consecutive(a_list):\n",
    "        ....."
   ]
  },
  {
   "cell_type": "code",
   "execution_count": 22,
   "id": "a2f51109",
   "metadata": {},
   "outputs": [
    {
     "data": {
      "text/plain": [
       "True"
      ]
     },
     "execution_count": 22,
     "metadata": {},
     "output_type": "execute_result"
    }
   ],
   "source": [
    "def is_consecutive(a_list):\n",
    "    for i in range(len(a_list)-1):\n",
    "        if a_list[i] + 1 != a_list[i + 1]:\n",
    "            return False\n",
    "        return True\n",
    "is_consecutive([2, 3, 4, 5, 6, 7])"
   ]
  },
  {
   "cell_type": "code",
   "execution_count": 23,
   "id": "95d89305",
   "metadata": {},
   "outputs": [
    {
     "data": {
      "text/plain": [
       "True"
      ]
     },
     "execution_count": 23,
     "metadata": {},
     "output_type": "execute_result"
    }
   ],
   "source": [
    "is_consecutive([1, 2, 4, 5])"
   ]
  }
 ],
 "metadata": {
  "kernelspec": {
   "display_name": "Python 3 (ipykernel)",
   "language": "python",
   "name": "python3"
  },
  "language_info": {
   "codemirror_mode": {
    "name": "ipython",
    "version": 3
   },
   "file_extension": ".py",
   "mimetype": "text/x-python",
   "name": "python",
   "nbconvert_exporter": "python",
   "pygments_lexer": "ipython3",
   "version": "3.9.12"
  }
 },
 "nbformat": 4,
 "nbformat_minor": 5
}
